{
 "cells": [
  {
   "cell_type": "code",
   "execution_count": 29,
   "metadata": {},
   "outputs": [],
   "source": [
    "#source: https://www.kaggle.com/maximknyazev/disaster-tweets-word2vec-tf-idf-81-acc/notebook#Let's-import-train-and-test-set\n",
    "\n",
    "import pandas as pd\n",
    "\n",
    "#import for plot\n",
    "import matplotlib.pyplot as plt\n",
    "import seaborn as sns\n",
    "\n",
    "import spacy\n",
    "import re\n",
    "\n",
    "from sklearn.feature_extraction.text import CountVectorizer, TfidfVectorizer\n",
    "from sklearn.model_selection import train_test_split\n",
    "from sklearn.metrics import classification_report, confusion_matrix\n",
    "\n",
    "from bs4 import BeautifulSoup\n",
    "#!pip install contractions\n",
    "import contractions\n"
   ]
  },
  {
   "cell_type": "code",
   "execution_count": 2,
   "metadata": {},
   "outputs": [
    {
     "data": {
      "text/html": [
       "<div>\n",
       "<style scoped>\n",
       "    .dataframe tbody tr th:only-of-type {\n",
       "        vertical-align: middle;\n",
       "    }\n",
       "\n",
       "    .dataframe tbody tr th {\n",
       "        vertical-align: top;\n",
       "    }\n",
       "\n",
       "    .dataframe thead th {\n",
       "        text-align: right;\n",
       "    }\n",
       "</style>\n",
       "<table border=\"1\" class=\"dataframe\">\n",
       "  <thead>\n",
       "    <tr style=\"text-align: right;\">\n",
       "      <th></th>\n",
       "      <th>id</th>\n",
       "      <th>keyword</th>\n",
       "      <th>location</th>\n",
       "      <th>text</th>\n",
       "      <th>target</th>\n",
       "    </tr>\n",
       "  </thead>\n",
       "  <tbody>\n",
       "    <tr>\n",
       "      <td>0</td>\n",
       "      <td>1</td>\n",
       "      <td>NaN</td>\n",
       "      <td>NaN</td>\n",
       "      <td>Our Deeds are the Reason of this #earthquake M...</td>\n",
       "      <td>1</td>\n",
       "    </tr>\n",
       "    <tr>\n",
       "      <td>1</td>\n",
       "      <td>4</td>\n",
       "      <td>NaN</td>\n",
       "      <td>NaN</td>\n",
       "      <td>Forest fire near La Ronge Sask. Canada</td>\n",
       "      <td>1</td>\n",
       "    </tr>\n",
       "    <tr>\n",
       "      <td>2</td>\n",
       "      <td>5</td>\n",
       "      <td>NaN</td>\n",
       "      <td>NaN</td>\n",
       "      <td>All residents asked to 'shelter in place' are ...</td>\n",
       "      <td>1</td>\n",
       "    </tr>\n",
       "    <tr>\n",
       "      <td>3</td>\n",
       "      <td>6</td>\n",
       "      <td>NaN</td>\n",
       "      <td>NaN</td>\n",
       "      <td>13,000 people receive #wildfires evacuation or...</td>\n",
       "      <td>1</td>\n",
       "    </tr>\n",
       "    <tr>\n",
       "      <td>4</td>\n",
       "      <td>7</td>\n",
       "      <td>NaN</td>\n",
       "      <td>NaN</td>\n",
       "      <td>Just got sent this photo from Ruby #Alaska as ...</td>\n",
       "      <td>1</td>\n",
       "    </tr>\n",
       "  </tbody>\n",
       "</table>\n",
       "</div>"
      ],
      "text/plain": [
       "   id keyword location                                               text  \\\n",
       "0   1     NaN      NaN  Our Deeds are the Reason of this #earthquake M...   \n",
       "1   4     NaN      NaN             Forest fire near La Ronge Sask. Canada   \n",
       "2   5     NaN      NaN  All residents asked to 'shelter in place' are ...   \n",
       "3   6     NaN      NaN  13,000 people receive #wildfires evacuation or...   \n",
       "4   7     NaN      NaN  Just got sent this photo from Ruby #Alaska as ...   \n",
       "\n",
       "   target  \n",
       "0       1  \n",
       "1       1  \n",
       "2       1  \n",
       "3       1  \n",
       "4       1  "
      ]
     },
     "execution_count": 2,
     "metadata": {},
     "output_type": "execute_result"
    }
   ],
   "source": [
    "#load the data\n",
    "train = pd.read_csv('train.csv')\n",
    "test = pd.read_csv('test.csv')\n",
    "\n",
    "train.head()"
   ]
  },
  {
   "cell_type": "code",
   "execution_count": 3,
   "metadata": {},
   "outputs": [
    {
     "name": "stdout",
     "output_type": "stream",
     "text": [
      "<class 'pandas.core.frame.DataFrame'>\n",
      "RangeIndex: 3263 entries, 0 to 3262\n",
      "Data columns (total 4 columns):\n",
      "id          3263 non-null int64\n",
      "keyword     3237 non-null object\n",
      "location    2158 non-null object\n",
      "text        3263 non-null object\n",
      "dtypes: int64(1), object(3)\n",
      "memory usage: 102.1+ KB\n"
     ]
    }
   ],
   "source": [
    "# get an idea about the data frame\n",
    "test.info()"
   ]
  },
  {
   "cell_type": "code",
   "execution_count": 5,
   "metadata": {},
   "outputs": [
    {
     "data": {
      "text/plain": [
       "id             0\n",
       "keyword       61\n",
       "location    2533\n",
       "text           0\n",
       "target         0\n",
       "dtype: int64"
      ]
     },
     "execution_count": 5,
     "metadata": {},
     "output_type": "execute_result"
    }
   ],
   "source": [
    "#count total number of missing items for each colm\n",
    "train.isna().sum()"
   ]
  },
  {
   "cell_type": "code",
   "execution_count": 6,
   "metadata": {},
   "outputs": [
    {
     "data": {
      "text/plain": [
       "id             0\n",
       "keyword       26\n",
       "location    1105\n",
       "text           0\n",
       "dtype: int64"
      ]
     },
     "execution_count": 6,
     "metadata": {},
     "output_type": "execute_result"
    }
   ],
   "source": [
    "test.isna().sum()"
   ]
  },
  {
   "cell_type": "code",
   "execution_count": 9,
   "metadata": {},
   "outputs": [
    {
     "data": {
      "text/plain": [
       "Text(0.5,1,'Real or not Disaster tweets')"
      ]
     },
     "execution_count": 9,
     "metadata": {},
     "output_type": "execute_result"
    },
    {
     "data": {
      "image/png": "[encoded data removed]",
      "text/plain": [
       "<Figure size 960x480 with 1 Axes>"
      ]
     },
     "metadata": {},
     "output_type": "display_data"
    }
   ],
   "source": [
    "plt.style.use('ggplot')\n",
    "\n",
    "plt.rcParams['figure.figsize'] = [8,4]\n",
    "plt.rcParams['figure.dpi'] = 120\n",
    "sns.countplot('target', data = train)\n",
    "plt.title('Real or not Disaster tweets')"
   ]
  },
  {
   "cell_type": "code",
   "execution_count": 11,
   "metadata": {},
   "outputs": [],
   "source": [
    "#helping functions to clean data\n",
    "\n",
    "from spacy.lang.en.stop_words import STOP_WORDS as stopwords\n",
    "global stopwords\n",
    "\n",
    "def get_words_counts(tweets):\n",
    "    length = len(str(tweets).split())\n",
    "    return length\n",
    "\n",
    "def get_chars_counts(tweets):\n",
    "    string = tweets.split()\n",
    "    x = ''.join(string)\n",
    "    return len(x)\n",
    "\n",
    "def get_average_word_length(tweets):\n",
    "    count = get_chars_counts(tweets)/get_words_counts(tweets)\n",
    "    return count\n",
    "\n",
    "def get_stopwords_count(tweets):\n",
    "        global stopwords\n",
    "        stopwords = len([t for t in tweets.split() if t in stopwords])\n",
    "        return stopwords\n",
    "    \n",
    "def get_hashtags_tags(tweets):\n",
    "        hashtags = len([t for t in tweets.split() if t.startswith('#')])\n",
    "        return hashtags\n",
    "        \n",
    "def get_email_tags(tweets):\n",
    "        email = len([t for t in tweets.split() if t.startwith('@')])\n",
    "        return email\n",
    "    \n",
    "def get_digit_counts(tweets):\n",
    "        digits = re.findall(r'[0-9,.]+', tweets)\n",
    "        return digits\n",
    "    \n",
    "def get_uppercase_units(tweets):\n",
    "        uppercase = len([t for t in tweets.split() if t.isupper()])\n",
    "        return uppercase\n",
    "    \n",
    "    \n",
    "# With this function we can get some features for build a bit EDA\n",
    "\n",
    "def get_features(df):\n",
    "    if type(df) == pd.core.frame.DataFrame:\n",
    "        df['words_counts'] = df['text'].apply(lambda x: get_words_counts(x))\n",
    "        df['char_counts'] = df['text'].apply(lambda x: get_chars_counts(x))\n",
    "        df['average_word_length'] = df['text'].apply(lambda x: get_average_word_length(x))\n",
    "#        df['stopwords_counts'] = df['text'].apply(lambda x: get_stopwords_count(x))\n",
    "        df['hashtags_counts'] = df['text'].apply(lambda x: get_hashtags_tags(x))\n",
    "#        df['email_counts'] = df['text'].apply(lambda x: get_email_tags(x))\n",
    "        df['digits_counts'] = df['text'].apply(lambda x: get_digit_counts(x))\n",
    "        df['uppercase_counts'] = df['text'].apply(lambda x: get_uppercase_units(x))\n",
    "        \n",
    "    else:\n",
    "        print('ERROR')\n",
    "        \n",
    "    return df"
   ]
  },
  {
   "cell_type": "code",
   "execution_count": 14,
   "metadata": {},
   "outputs": [
    {
     "data": {
      "text/html": [
       "<div>\n",
       "<style scoped>\n",
       "    .dataframe tbody tr th:only-of-type {\n",
       "        vertical-align: middle;\n",
       "    }\n",
       "\n",
       "    .dataframe tbody tr th {\n",
       "        vertical-align: top;\n",
       "    }\n",
       "\n",
       "    .dataframe thead th {\n",
       "        text-align: right;\n",
       "    }\n",
       "</style>\n",
       "<table border=\"1\" class=\"dataframe\">\n",
       "  <thead>\n",
       "    <tr style=\"text-align: right;\">\n",
       "      <th></th>\n",
       "      <th>id</th>\n",
       "      <th>keyword</th>\n",
       "      <th>location</th>\n",
       "      <th>text</th>\n",
       "      <th>target</th>\n",
       "      <th>words_counts</th>\n",
       "      <th>char_counts</th>\n",
       "      <th>average_word_length</th>\n",
       "      <th>hashtags_counts</th>\n",
       "      <th>digits_counts</th>\n",
       "      <th>uppercase_counts</th>\n",
       "    </tr>\n",
       "  </thead>\n",
       "  <tbody>\n",
       "    <tr>\n",
       "      <td>0</td>\n",
       "      <td>1</td>\n",
       "      <td>NaN</td>\n",
       "      <td>NaN</td>\n",
       "      <td>Our Deeds are the Reason of this #earthquake M...</td>\n",
       "      <td>1</td>\n",
       "      <td>13</td>\n",
       "      <td>57</td>\n",
       "      <td>4.384615</td>\n",
       "      <td>1</td>\n",
       "      <td>[]</td>\n",
       "      <td>1</td>\n",
       "    </tr>\n",
       "    <tr>\n",
       "      <td>1</td>\n",
       "      <td>4</td>\n",
       "      <td>NaN</td>\n",
       "      <td>NaN</td>\n",
       "      <td>Forest fire near La Ronge Sask. Canada</td>\n",
       "      <td>1</td>\n",
       "      <td>7</td>\n",
       "      <td>32</td>\n",
       "      <td>4.571429</td>\n",
       "      <td>0</td>\n",
       "      <td>[.]</td>\n",
       "      <td>0</td>\n",
       "    </tr>\n",
       "    <tr>\n",
       "      <td>2</td>\n",
       "      <td>5</td>\n",
       "      <td>NaN</td>\n",
       "      <td>NaN</td>\n",
       "      <td>All residents asked to 'shelter in place' are ...</td>\n",
       "      <td>1</td>\n",
       "      <td>22</td>\n",
       "      <td>112</td>\n",
       "      <td>5.090909</td>\n",
       "      <td>0</td>\n",
       "      <td>[.]</td>\n",
       "      <td>0</td>\n",
       "    </tr>\n",
       "    <tr>\n",
       "      <td>3</td>\n",
       "      <td>6</td>\n",
       "      <td>NaN</td>\n",
       "      <td>NaN</td>\n",
       "      <td>13,000 people receive #wildfires evacuation or...</td>\n",
       "      <td>1</td>\n",
       "      <td>8</td>\n",
       "      <td>57</td>\n",
       "      <td>7.125000</td>\n",
       "      <td>1</td>\n",
       "      <td>[13,000]</td>\n",
       "      <td>0</td>\n",
       "    </tr>\n",
       "    <tr>\n",
       "      <td>4</td>\n",
       "      <td>7</td>\n",
       "      <td>NaN</td>\n",
       "      <td>NaN</td>\n",
       "      <td>Just got sent this photo from Ruby #Alaska as ...</td>\n",
       "      <td>1</td>\n",
       "      <td>16</td>\n",
       "      <td>72</td>\n",
       "      <td>4.500000</td>\n",
       "      <td>2</td>\n",
       "      <td>[]</td>\n",
       "      <td>0</td>\n",
       "    </tr>\n",
       "    <tr>\n",
       "      <td>...</td>\n",
       "      <td>...</td>\n",
       "      <td>...</td>\n",
       "      <td>...</td>\n",
       "      <td>...</td>\n",
       "      <td>...</td>\n",
       "      <td>...</td>\n",
       "      <td>...</td>\n",
       "      <td>...</td>\n",
       "      <td>...</td>\n",
       "      <td>...</td>\n",
       "      <td>...</td>\n",
       "    </tr>\n",
       "    <tr>\n",
       "      <td>7608</td>\n",
       "      <td>10869</td>\n",
       "      <td>NaN</td>\n",
       "      <td>NaN</td>\n",
       "      <td>Two giant cranes holding a bridge collapse int...</td>\n",
       "      <td>1</td>\n",
       "      <td>11</td>\n",
       "      <td>73</td>\n",
       "      <td>6.636364</td>\n",
       "      <td>0</td>\n",
       "      <td>[., 5]</td>\n",
       "      <td>0</td>\n",
       "    </tr>\n",
       "    <tr>\n",
       "      <td>7609</td>\n",
       "      <td>10870</td>\n",
       "      <td>NaN</td>\n",
       "      <td>NaN</td>\n",
       "      <td>@aria_ahrary @TheTawniest The out of control w...</td>\n",
       "      <td>1</td>\n",
       "      <td>20</td>\n",
       "      <td>106</td>\n",
       "      <td>5.300000</td>\n",
       "      <td>0</td>\n",
       "      <td>[., .]</td>\n",
       "      <td>0</td>\n",
       "    </tr>\n",
       "    <tr>\n",
       "      <td>7610</td>\n",
       "      <td>10871</td>\n",
       "      <td>NaN</td>\n",
       "      <td>NaN</td>\n",
       "      <td>M1.94 [01:04 UTC]?5km S of Volcano Hawaii. htt...</td>\n",
       "      <td>1</td>\n",
       "      <td>8</td>\n",
       "      <td>58</td>\n",
       "      <td>7.250000</td>\n",
       "      <td>0</td>\n",
       "      <td>[1.94, 01, 04, 5, ., ., 8]</td>\n",
       "      <td>2</td>\n",
       "    </tr>\n",
       "    <tr>\n",
       "      <td>7611</td>\n",
       "      <td>10872</td>\n",
       "      <td>NaN</td>\n",
       "      <td>NaN</td>\n",
       "      <td>Police investigating after an e-bike collided ...</td>\n",
       "      <td>1</td>\n",
       "      <td>19</td>\n",
       "      <td>119</td>\n",
       "      <td>6.263158</td>\n",
       "      <td>0</td>\n",
       "      <td>[., .]</td>\n",
       "      <td>0</td>\n",
       "    </tr>\n",
       "    <tr>\n",
       "      <td>7612</td>\n",
       "      <td>10873</td>\n",
       "      <td>NaN</td>\n",
       "      <td>NaN</td>\n",
       "      <td>The Latest: More Homes Razed by Northern Calif...</td>\n",
       "      <td>1</td>\n",
       "      <td>13</td>\n",
       "      <td>82</td>\n",
       "      <td>6.307692</td>\n",
       "      <td>0</td>\n",
       "      <td>[., 4, 3]</td>\n",
       "      <td>1</td>\n",
       "    </tr>\n",
       "  </tbody>\n",
       "</table>\n",
       "<p>7613 rows × 11 columns</p>\n",
       "</div>"
      ],
      "text/plain": [
       "         id keyword location  \\\n",
       "0         1     NaN      NaN   \n",
       "1         4     NaN      NaN   \n",
       "2         5     NaN      NaN   \n",
       "3         6     NaN      NaN   \n",
       "4         7     NaN      NaN   \n",
       "...     ...     ...      ...   \n",
       "7608  10869     NaN      NaN   \n",
       "7609  10870     NaN      NaN   \n",
       "7610  10871     NaN      NaN   \n",
       "7611  10872     NaN      NaN   \n",
       "7612  10873     NaN      NaN   \n",
       "\n",
       "                                                   text  target  words_counts  \\\n",
       "0     Our Deeds are the Reason of this #earthquake M...       1            13   \n",
       "1                Forest fire near La Ronge Sask. Canada       1             7   \n",
       "2     All residents asked to 'shelter in place' are ...       1            22   \n",
       "3     13,000 people receive #wildfires evacuation or...       1             8   \n",
       "4     Just got sent this photo from Ruby #Alaska as ...       1            16   \n",
       "...                                                 ...     ...           ...   \n",
       "7608  Two giant cranes holding a bridge collapse int...       1            11   \n",
       "7609  @aria_ahrary @TheTawniest The out of control w...       1            20   \n",
       "7610  M1.94 [01:04 UTC]?5km S of Volcano Hawaii. htt...       1             8   \n",
       "7611  Police investigating after an e-bike collided ...       1            19   \n",
       "7612  The Latest: More Homes Razed by Northern Calif...       1            13   \n",
       "\n",
       "      char_counts  average_word_length  hashtags_counts  \\\n",
       "0              57             4.384615                1   \n",
       "1              32             4.571429                0   \n",
       "2             112             5.090909                0   \n",
       "3              57             7.125000                1   \n",
       "4              72             4.500000                2   \n",
       "...           ...                  ...              ...   \n",
       "7608           73             6.636364                0   \n",
       "7609          106             5.300000                0   \n",
       "7610           58             7.250000                0   \n",
       "7611          119             6.263158                0   \n",
       "7612           82             6.307692                0   \n",
       "\n",
       "                   digits_counts  uppercase_counts  \n",
       "0                             []                 1  \n",
       "1                            [.]                 0  \n",
       "2                            [.]                 0  \n",
       "3                       [13,000]                 0  \n",
       "4                             []                 0  \n",
       "...                          ...               ...  \n",
       "7608                      [., 5]                 0  \n",
       "7609                      [., .]                 0  \n",
       "7610  [1.94, 01, 04, 5, ., ., 8]                 2  \n",
       "7611                      [., .]                 0  \n",
       "7612                   [., 4, 3]                 1  \n",
       "\n",
       "[7613 rows x 11 columns]"
      ]
     },
     "execution_count": 14,
     "metadata": {},
     "output_type": "execute_result"
    }
   ],
   "source": [
    "train = pd.DataFrame(train)\n",
    "train = get_features(train)\n",
    "train"
   ]
  },
  {
   "cell_type": "code",
   "execution_count": 15,
   "metadata": {},
   "outputs": [
    {
     "data": {
      "text/plain": [
       "<matplotlib.axes._subplots.AxesSubplot at 0x1324892d0>"
      ]
     },
     "execution_count": 15,
     "metadata": {},
     "output_type": "execute_result"
    },
    {
     "data": {
      "image/png": "[encoded data removed]",
      "text/plain": [
       "<Figure size 960x480 with 1 Axes>"
      ]
     },
     "metadata": {},
     "output_type": "display_data"
    }
   ],
   "source": [
    "sns.distplot(train['char_counts']) \n",
    "sns.kdeplot(train[train['target'] == 1]['char_counts'], shade=True, color='red')\n",
    "sns.kdeplot(train[train['target'] == 0]['char_counts'], shade=True, color= 'blue')"
   ]
  },
  {
   "cell_type": "code",
   "execution_count": 17,
   "metadata": {},
   "outputs": [],
   "source": [
    "def remove_tweet_username(df):\n",
    "    return re.sub('@[^\\s]+','', df)\n",
    "\n",
    "def make_lower(df):\n",
    "    return df.lower()\n",
    "\n",
    "def cont_exp(df):\n",
    "    return contractions.fix(df)\n",
    "\n",
    "def make_string(df):\n",
    "    return str(df)\n",
    "\n",
    "def remove_url(df):\n",
    "    return re.sub(r'(http|https|ftp|ssh)://([\\w_-]+(?:(?:\\.[\\w_-]+)+))([\\w.,@?^=%&:/~+#-]*[\\w@?^=%&/~+#-])?', '' , df)\n",
    "\n",
    "def remove_email(df):\n",
    "    return re.sub(r'([a-z0-9+._-]+@[a-z0-9+._-]+\\.[a-z0-9+_-]+)',\"\", df)\n",
    "\n",
    "#Retweets\n",
    "def remove_rt(df):\n",
    "    df = str(df)\n",
    "    return re.sub(r'\\brt\\b', \"\", df).strip()\n",
    "\n",
    "def remove_html(df):\n",
    "    return BeautifulSoup(df, 'lxml').get_text().strip()\n",
    "\n",
    "def remove_dots(df):\n",
    "    dot_pattern = re.compile(r'\\.{1,}')\n",
    "    single_dot = dot_pattern.sub(' ', df)\n",
    "    return single_dot\n",
    "\n",
    "def remove_special_chars(df):\n",
    "    df = re.sub(r'[^\\w]+', \" \", df)\n",
    "    df = ' '.join(df.split())\n",
    "    return df\n",
    "\n",
    "def make_base(df):\n",
    "    df = str(df)\n",
    "    x_list = []\n",
    "    doc = nlp(df)\n",
    "\n",
    "    for token in doc:\n",
    "        lemma = token.lemma_\n",
    "        if lemma == '-PRON-' or lemma == 'be':\n",
    "            lemma = token.text\n",
    "\n",
    "        x_list.append(lemma)\n",
    "    return ' '.join(x_list)\n",
    "\n",
    "def spelling_correction(df):\n",
    "    df = TextBlob(df).correct()\n",
    "    return df\n",
    "\n",
    "def resub(df):\n",
    "    return re.sub(\"(.)\\\\1{2,}\", \"\\\\1\", df)\n",
    "\n",
    "\n",
    "\n",
    "def get_clean_data(df):\n",
    "    df = remove_url(df)\n",
    "    df = remove_email(df)\n",
    "    df = remove_html(df)\n",
    "#    df = remove_dots(df)\n",
    "#    df = make_base(df)\n",
    "#    df = spelling_correction(df).raw_sentences[0]\n",
    "    df = make_lower(df)\n",
    "    df = make_string(df)\n",
    "    df = cont_exp(df)\n",
    "    df = remove_rt(df)\n",
    "    df = resub(df)                             \n",
    "    df = remove_tweet_username(df)\n",
    "    \n",
    "    return df\n"
   ]
  },
  {
   "cell_type": "code",
   "execution_count": 24,
   "metadata": {},
   "outputs": [],
   "source": [
    "train['text'] = train['text'].apply(get_clean_data)\n",
    "test['text'] = test['text'].apply(get_clean_data)\n",
    "\n",
    "train['text'] = train['text'].apply(remove_special_chars)\n",
    "test['text'] = test['text'].apply(remove_special_chars)\n",
    "\n",
    "# trying to remove all digits from a columns\n",
    "train['text'] = train['text'].str.replace('\\d+', '')\n",
    "test['text'] = test['text'].str.replace('\\d+', '')"
   ]
  },
  {
   "cell_type": "code",
   "execution_count": 22,
   "metadata": {},
   "outputs": [
    {
     "data": {
      "text/plain": [
       "0     our deeds are the reason of this earthquake ma...\n",
       "1                 forest fire near la ronge sask canada\n",
       "2     all residents asked to shelter in place are be...\n",
       "3     13 0 people receive wildfires evacuation order...\n",
       "4     just got sent this photo from ruby alaska as s...\n",
       "5     rockyfire update california hwy 20 closed in b...\n",
       "6     flood disaster heavy rain causes flash floodin...\n",
       "7     i am on top of the hill and i can see a fire i...\n",
       "8     there is an emergency evacuation happening now...\n",
       "9     i am afraid that the tornado is coming to our ...\n",
       "10          three people died from the heat wave so far\n",
       "11    haha south tampa is getting flooded hah wait a...\n",
       "12    raining flooding florida tampabay tampa 18 or ...\n",
       "13                flood in bago myanmar we arrived bago\n",
       "14    damage to school bus on 80 in multi car crash ...\n",
       "15                                       what is up man\n",
       "16                                        i love fruits\n",
       "17                                     summer is lovely\n",
       "18                                    my car is so fast\n",
       "19                                          what a goal\n",
       "Name: text, dtype: object"
      ]
     },
     "execution_count": 22,
     "metadata": {},
     "output_type": "execute_result"
    }
   ],
   "source": [
    "train['text'].head(20)"
   ]
  },
  {
   "cell_type": "code",
   "execution_count": 27,
   "metadata": {},
   "outputs": [],
   "source": [
    "# Use Gensim\n",
    "\n",
    "#!pip install gensim\n",
    "from gensim.parsing.preprocessing import remove_stopwords\n",
    "\n",
    "train['text'] = train['text'].apply(remove_stopwords)\n",
    "test['text'] = test['text'].apply(remove_stopwords)"
   ]
  },
  {
   "cell_type": "code",
   "execution_count": 33,
   "metadata": {
    "scrolled": true
   },
   "outputs": [],
   "source": [
    "text = train['text']\n",
    "y = train['target']\n",
    "\n",
    "tfidf = TfidfVectorizer()\n",
    "X = tfidf.fit_transform(text)\n",
    "\n",
    "X.shape\n",
    "\n",
    "X_train, X_test, y_train, y_test = train_test_split(X, y, test_size=0.25, random_state = 7, stratify=y)"
   ]
  },
  {
   "cell_type": "code",
   "execution_count": 34,
   "metadata": {},
   "outputs": [
    {
     "name": "stdout",
     "output_type": "stream",
     "text": [
      "\n",
      "Classification Report:\n",
      "              precision    recall  f1-score   support\n",
      "\n",
      "           0       0.78      0.87      0.82      1086\n",
      "           1       0.79      0.68      0.73       818\n",
      "\n",
      "    accuracy                           0.79      1904\n",
      "   macro avg       0.79      0.77      0.78      1904\n",
      "weighted avg       0.79      0.79      0.78      1904\n",
      "\n"
     ]
    }
   ],
   "source": [
    "# Support Vector Machines\n",
    "from sklearn.svm import LinearSVC\n",
    "\n",
    "clf_svm = LinearSVC()\n",
    "\n",
    "def run_SVM(clf_svm, X_train, X_test, y_train, y_test):\n",
    "    clf_svm.fit(X_train, y_train)\n",
    "    y_pred = clf_svm.predict(X_test)\n",
    "    \n",
    "    print()\n",
    "    print('Classification Report:')\n",
    "    print(classification_report(y_test, y_pred))\n",
    "    \n",
    "run_SVM(clf_svm, X_train, X_test, y_train, y_test)\n"
   ]
  },
  {
   "cell_type": "code",
   "execution_count": 35,
   "metadata": {},
   "outputs": [
    {
     "name": "stdout",
     "output_type": "stream",
     "text": [
      "\n",
      "Classification Report:\n",
      "              precision    recall  f1-score   support\n",
      "\n",
      "           0       0.76      0.92      0.83      1086\n",
      "           1       0.86      0.61      0.71       818\n",
      "\n",
      "    accuracy                           0.79      1904\n",
      "   macro avg       0.81      0.77      0.77      1904\n",
      "weighted avg       0.80      0.79      0.78      1904\n",
      "\n"
     ]
    },
    {
     "name": "stderr",
     "output_type": "stream",
     "text": [
      "/Users/isa14/opt/anaconda3/lib/python3.7/site-packages/sklearn/linear_model/logistic.py:432: FutureWarning: Default solver will be changed to 'lbfgs' in 0.22. Specify a solver to silence this warning.\n",
      "  FutureWarning)\n"
     ]
    }
   ],
   "source": [
    "# Logistic Regression\n",
    "\n",
    "from sklearn.linear_model import LogisticRegression\n",
    "\n",
    "clf_lr = LogisticRegression()\n",
    "\n",
    "def run_LR(clf_lr, X_train, X_test, y_train, y_test):\n",
    "    clf_lr.fit(X_train, y_train)\n",
    "    y_pred = clf_lr.predict(X_test)\n",
    "    \n",
    "    print()\n",
    "    print('Classification Report:')\n",
    "    print(classification_report(y_test, y_pred))\n",
    "    \n",
    "run_LR(clf_lr, X_train, X_test, y_train, y_test)"
   ]
  },
  {
   "cell_type": "code",
   "execution_count": 36,
   "metadata": {},
   "outputs": [
    {
     "name": "stdout",
     "output_type": "stream",
     "text": [
      "\n",
      "Classification Report:\n",
      "              precision    recall  f1-score   support\n",
      "\n",
      "           0       0.64      0.98      0.78      1086\n",
      "           1       0.92      0.27      0.42       818\n",
      "\n",
      "    accuracy                           0.68      1904\n",
      "   macro avg       0.78      0.63      0.60      1904\n",
      "weighted avg       0.76      0.68      0.62      1904\n",
      "\n"
     ]
    }
   ],
   "source": [
    "#K Nearest Neighbours\n",
    "\n",
    "from sklearn.neighbors import KNeighborsClassifier\n",
    "\n",
    "clf_knn = KNeighborsClassifier()\n",
    "\n",
    "def run_knn(clf_knn, X_train, X_test, y_train, y_test):\n",
    "    clf_knn.fit(X_train, y_train)\n",
    "    y_pred = clf_knn.predict(X_test)\n",
    "    \n",
    "    print()\n",
    "    print('Classification Report:')\n",
    "    print(classification_report(y_test, y_pred))\n",
    "    \n",
    "run_knn(clf_knn, X_train, X_test, y_train, y_test)"
   ]
  },
  {
   "cell_type": "code",
   "execution_count": 37,
   "metadata": {},
   "outputs": [
    {
     "name": "stdout",
     "output_type": "stream",
     "text": [
      "\n",
      "Classification Report:\n",
      "              precision    recall  f1-score   support\n",
      "\n",
      "           0       0.78      0.89      0.83      1086\n",
      "           1       0.82      0.66      0.73       818\n",
      "\n",
      "    accuracy                           0.79      1904\n",
      "   macro avg       0.80      0.77      0.78      1904\n",
      "weighted avg       0.79      0.79      0.79      1904\n",
      "\n"
     ]
    }
   ],
   "source": [
    "# Multinominal Naive Bayes\n",
    "\n",
    "from sklearn.naive_bayes import MultinomialNB\n",
    "\n",
    "clf_mnb = MultinomialNB()\n",
    "\n",
    "def run_mnb(clf_mnb, X_train, X_test, y_train, y_test):\n",
    "    clf_mnb.fit(X_train, y_train)\n",
    "    y_pred = clf_mnb.predict(X_test)\n",
    "    \n",
    "    print()\n",
    "    print('Classification Report:')\n",
    "    print(classification_report(y_test, y_pred))\n",
    "    \n",
    "run_mnb(clf_mnb, X_train, X_test, y_train, y_test)"
   ]
  },
  {
   "cell_type": "code",
   "execution_count": 38,
   "metadata": {},
   "outputs": [
    {
     "name": "stdout",
     "output_type": "stream",
     "text": [
      "\n",
      "Classification Reprot:\n",
      "              precision    recall  f1-score   support\n",
      "\n",
      "           0       0.76      0.77      0.77      1086\n",
      "           1       0.69      0.68      0.69       818\n",
      "\n",
      "    accuracy                           0.73      1904\n",
      "   macro avg       0.73      0.73      0.73      1904\n",
      "weighted avg       0.73      0.73      0.73      1904\n",
      "\n"
     ]
    }
   ],
   "source": [
    "# Decision Tree\n",
    "\n",
    "from sklearn.tree import DecisionTreeClassifier\n",
    "\n",
    "clf_tree = DecisionTreeClassifier()\n",
    "\n",
    "def run_tree(clf_tree, X_train, X_test, y_train, y_test):\n",
    "    clf_tree.fit(X_train, y_train)\n",
    "    y_pred = clf_tree.predict(X_test)\n",
    "    \n",
    "    print()\n",
    "    print('Classification Reprot:')\n",
    "    print(classification_report(y_test, y_pred))\n",
    "\n",
    "run_tree(clf_tree, X_train, X_test, y_train, y_test)\n",
    "\n"
   ]
  },
  {
   "cell_type": "code",
   "execution_count": 40,
   "metadata": {},
   "outputs": [
    {
     "name": "stderr",
     "output_type": "stream",
     "text": [
      "/Users/isa14/opt/anaconda3/lib/python3.7/site-packages/sklearn/ensemble/forest.py:245: FutureWarning: The default value of n_estimators will change from 10 in version 0.20 to 100 in 0.22.\n",
      "  \"10 in version 0.20 to 100 in 0.22.\", FutureWarning)\n"
     ]
    },
    {
     "name": "stdout",
     "output_type": "stream",
     "text": [
      "\n",
      "Classificiation Report:\n",
      "              precision    recall  f1-score   support\n",
      "\n",
      "           0       0.74      0.89      0.81      1086\n",
      "           1       0.80      0.59      0.68       818\n",
      "\n",
      "    accuracy                           0.76      1904\n",
      "   macro avg       0.77      0.74      0.74      1904\n",
      "weighted avg       0.77      0.76      0.75      1904\n",
      "\n"
     ]
    },
    {
     "data": {
      "text/plain": [
       "0.7584033613445378"
      ]
     },
     "execution_count": 40,
     "metadata": {},
     "output_type": "execute_result"
    }
   ],
   "source": [
    "#Random Forest CLassifier\n",
    "\n",
    "from sklearn.ensemble import RandomForestClassifier\n",
    "\n",
    "clf_forest = RandomForestClassifier()\n",
    "\n",
    "def run_forest(clf_forest, X_train, X_test, y_train, y_test):\n",
    "    clf_forest.fit(X_train, y_train)\n",
    "    y_pred = clf_forest.predict(X_test) \n",
    "    \n",
    "    print()\n",
    "    print(\"Classificiation Report:\")\n",
    "    print(classification_report(y_test, y_pred))\n",
    "    \n",
    "run_forest(clf_forest, X_train, X_test, y_train, y_test)"
   ]
  },
  {
   "cell_type": "code",
   "execution_count": 43,
   "metadata": {},
   "outputs": [
    {
     "data": {
      "text/plain": [
       "{'Support Vector Machines': 0.7857142857142857,\n",
       " 'Logistic Regression': 0.789390756302521,\n",
       " 'KNearest Neightbors': 0.6811974789915967,\n",
       " 'Multinominal Naive Bayes': 0.7904411764705882,\n",
       " 'Decision Tree': 0.7337184873949579,\n",
       " 'Random Forest Classifier': 0.7584033613445378}"
      ]
     },
     "execution_count": 43,
     "metadata": {},
     "output_type": "execute_result"
    }
   ],
   "source": [
    "#Summary of Results \n",
    "\n",
    "models_default_tfidf = {'Support Vector Machines': clf_svm.score(X_test, y_test),\n",
    "          'Logistic Regression': clf_lr.score(X_test, y_test),\n",
    "          'KNearest Neightbors': clf_knn.score(X_test, y_test),\n",
    "          'Multinominal Naive Bayes': clf_mnb.score(X_test, y_test),\n",
    "          'Decision Tree': clf_tree.score(X_test, y_test),\n",
    "          'Random Forest Classifier': clf_forest.score(X_test, y_test)}\n",
    "\n",
    "\n",
    "models_default_tfidf"
   ]
  },
  {
   "cell_type": "code",
   "execution_count": 44,
   "metadata": {},
   "outputs": [
    {
     "data": {
      "text/plain": [
       "<matplotlib.axes._subplots.AxesSubplot at 0x136e57390>"
      ]
     },
     "execution_count": 44,
     "metadata": {},
     "output_type": "execute_result"
    },
    {
     "data": {
      "image/png": "[encoded data removed]",
      "text/plain": [
       "<Figure size 960x480 with 1 Axes>"
      ]
     },
     "metadata": {},
     "output_type": "display_data"
    }
   ],
   "source": [
    "default_models_compare = pd.DataFrame(models_default_tfidf, index=['accuracy'])\n",
    "default_models_compare.T.plot.bar()"
   ]
  },
  {
   "cell_type": "code",
   "execution_count": 50,
   "metadata": {},
   "outputs": [
    {
     "data": {
      "text/html": [
       "<div>\n",
       "<style scoped>\n",
       "    .dataframe tbody tr th:only-of-type {\n",
       "        vertical-align: middle;\n",
       "    }\n",
       "\n",
       "    .dataframe tbody tr th {\n",
       "        vertical-align: top;\n",
       "    }\n",
       "\n",
       "    .dataframe thead th {\n",
       "        text-align: right;\n",
       "    }\n",
       "</style>\n",
       "<table border=\"1\" class=\"dataframe\">\n",
       "  <thead>\n",
       "    <tr style=\"text-align: right;\">\n",
       "      <th></th>\n",
       "      <th>id</th>\n",
       "      <th>keyword</th>\n",
       "      <th>location</th>\n",
       "      <th>text</th>\n",
       "      <th>target</th>\n",
       "      <th>words_counts</th>\n",
       "      <th>char_counts</th>\n",
       "      <th>average_word_length</th>\n",
       "      <th>hashtags_counts</th>\n",
       "      <th>digits_counts</th>\n",
       "      <th>uppercase_counts</th>\n",
       "      <th>vectors</th>\n",
       "    </tr>\n",
       "  </thead>\n",
       "  <tbody>\n",
       "    <tr>\n",
       "      <td>0</td>\n",
       "      <td>1</td>\n",
       "      <td>NaN</td>\n",
       "      <td>NaN</td>\n",
       "      <td>deeds reason earthquake allah forgive</td>\n",
       "      <td>1</td>\n",
       "      <td>13</td>\n",
       "      <td>57</td>\n",
       "      <td>4.384615</td>\n",
       "      <td>1</td>\n",
       "      <td>[]</td>\n",
       "      <td>1</td>\n",
       "      <td>[-0.577874, -0.020427203, -0.153596, -0.104262...</td>\n",
       "    </tr>\n",
       "    <tr>\n",
       "      <td>1</td>\n",
       "      <td>4</td>\n",
       "      <td>NaN</td>\n",
       "      <td>NaN</td>\n",
       "      <td>forest near la ronge sask canada</td>\n",
       "      <td>1</td>\n",
       "      <td>7</td>\n",
       "      <td>32</td>\n",
       "      <td>4.571429</td>\n",
       "      <td>0</td>\n",
       "      <td>[.]</td>\n",
       "      <td>0</td>\n",
       "      <td>[0.0059129945, -0.12560566, -0.195046, -0.3924...</td>\n",
       "    </tr>\n",
       "    <tr>\n",
       "      <td>2</td>\n",
       "      <td>5</td>\n",
       "      <td>NaN</td>\n",
       "      <td>NaN</td>\n",
       "      <td>residents asked shelter place notified officer...</td>\n",
       "      <td>1</td>\n",
       "      <td>22</td>\n",
       "      <td>112</td>\n",
       "      <td>5.090909</td>\n",
       "      <td>0</td>\n",
       "      <td>[.]</td>\n",
       "      <td>0</td>\n",
       "      <td>[0.07983147, 0.06994864, -0.0071826326, -0.000...</td>\n",
       "    </tr>\n",
       "    <tr>\n",
       "      <td>3</td>\n",
       "      <td>6</td>\n",
       "      <td>NaN</td>\n",
       "      <td>NaN</td>\n",
       "      <td>people receive wildfires evacuation orders cal...</td>\n",
       "      <td>1</td>\n",
       "      <td>8</td>\n",
       "      <td>57</td>\n",
       "      <td>7.125000</td>\n",
       "      <td>1</td>\n",
       "      <td>[13,000]</td>\n",
       "      <td>0</td>\n",
       "      <td>[-0.22658165, 0.19888365, -0.027298167, -0.249...</td>\n",
       "    </tr>\n",
       "    <tr>\n",
       "      <td>4</td>\n",
       "      <td>7</td>\n",
       "      <td>NaN</td>\n",
       "      <td>NaN</td>\n",
       "      <td>got sent photo ruby alaska smoke wildfires pou...</td>\n",
       "      <td>1</td>\n",
       "      <td>16</td>\n",
       "      <td>72</td>\n",
       "      <td>4.500000</td>\n",
       "      <td>2</td>\n",
       "      <td>[]</td>\n",
       "      <td>0</td>\n",
       "      <td>[-0.15872057, -0.08627854, 0.112908565, -0.068...</td>\n",
       "    </tr>\n",
       "  </tbody>\n",
       "</table>\n",
       "</div>"
      ],
      "text/plain": [
       "   id keyword location                                               text  \\\n",
       "0   1     NaN      NaN              deeds reason earthquake allah forgive   \n",
       "1   4     NaN      NaN                   forest near la ronge sask canada   \n",
       "2   5     NaN      NaN  residents asked shelter place notified officer...   \n",
       "3   6     NaN      NaN  people receive wildfires evacuation orders cal...   \n",
       "4   7     NaN      NaN  got sent photo ruby alaska smoke wildfires pou...   \n",
       "\n",
       "   target  words_counts  char_counts  average_word_length  hashtags_counts  \\\n",
       "0       1            13           57             4.384615                1   \n",
       "1       1             7           32             4.571429                0   \n",
       "2       1            22          112             5.090909                0   \n",
       "3       1             8           57             7.125000                1   \n",
       "4       1            16           72             4.500000                2   \n",
       "\n",
       "  digits_counts  uppercase_counts  \\\n",
       "0            []                 1   \n",
       "1           [.]                 0   \n",
       "2           [.]                 0   \n",
       "3      [13,000]                 0   \n",
       "4            []                 0   \n",
       "\n",
       "                                             vectors  \n",
       "0  [-0.577874, -0.020427203, -0.153596, -0.104262...  \n",
       "1  [0.0059129945, -0.12560566, -0.195046, -0.3924...  \n",
       "2  [0.07983147, 0.06994864, -0.0071826326, -0.000...  \n",
       "3  [-0.22658165, 0.19888365, -0.027298167, -0.249...  \n",
       "4  [-0.15872057, -0.08627854, 0.112908565, -0.068...  "
      ]
     },
     "execution_count": 50,
     "metadata": {},
     "output_type": "execute_result"
    }
   ],
   "source": [
    "#!python -m spacy download en_core_web_lg\n",
    "import en_core_web_lg\n",
    "nlp = en_core_web_lg.load()\n",
    "\n",
    "def get_vec(x):\n",
    "    doc = nlp(x)\n",
    "    vec = doc.vector\n",
    "    return vec\n",
    "\n",
    "train['vectors'] = train['text'].apply(lambda x: get_vec(x))\n",
    "train.head()"
   ]
  },
  {
   "cell_type": "code",
   "execution_count": 63,
   "metadata": {},
   "outputs": [
    {
     "data": {
      "text/plain": [
       "array([[-0.577874  , -0.0204272 , -0.153596  , ...,  0.322171  ,\n",
       "        -0.04134401, -0.20528519],\n",
       "       [ 0.00591299, -0.12560566, -0.195046  , ..., -0.13940184,\n",
       "        -0.26227203,  0.13546816],\n",
       "       [ 0.07983147,  0.06994864, -0.00718263, ...,  0.12075873,\n",
       "         0.10999563, -0.07356182],\n",
       "       ...,\n",
       "       [ 0.07628781,  0.15273039,  0.100564  , ...,  0.12497199,\n",
       "         0.079596  ,  0.0477878 ],\n",
       "       [ 0.00729172,  0.0888634 , -0.28466085, ..., -0.06633175,\n",
       "         0.03403912,  0.10538907],\n",
       "       [-0.08109076,  0.261985  ,  0.07463737, ..., -0.3299342 ,\n",
       "        -0.14810582,  0.17813051]], dtype=float32)"
      ]
     },
     "execution_count": 63,
     "metadata": {},
     "output_type": "execute_result"
    }
   ],
   "source": [
    "import numpy as np\n",
    "#why did we do the following? \n",
    "X = train['vectors'].to_numpy()\n",
    "\n",
    "#X.shape #(7613,)\n",
    "\n",
    "X = X.reshape(-1, 1) #https://stackoverflow.com/questions/57962718/reshaping-data-in-numpy-with-1-1-what-does-it-mean\n",
    "\n",
    "X.shape #(7613, 1)\n",
    "\n",
    "X = np.concatenate(np.concatenate(X, axis = 0), axis = 0).reshape(-1, 300) #????? why?\n",
    "\n",
    "X.shape"
   ]
  },
  {
   "cell_type": "code",
   "execution_count": 53,
   "metadata": {},
   "outputs": [
    {
     "data": {
      "text/plain": [
       "array([[-0.13712625, -0.00484726, -0.03644747, ...,  0.07644937,\n",
       "        -0.0098107 , -0.04871302],\n",
       "       [ 0.00153096, -0.03252115, -0.05050027, ..., -0.03609318,\n",
       "        -0.06790607,  0.03507469],\n",
       "       [ 0.02037159,  0.01784967, -0.00183288, ...,  0.03081551,\n",
       "         0.02806895, -0.01877168],\n",
       "       ...,\n",
       "       [ 0.01926466,  0.03856841,  0.02539504, ...,  0.03155869,\n",
       "         0.02010007,  0.01206767],\n",
       "       [ 0.00204144,  0.02487876, -0.07969546, ..., -0.01857066,\n",
       "         0.00952981,  0.02950539],\n",
       "       [-0.02173158,  0.07020958,  0.02000213, ..., -0.08841935,\n",
       "        -0.039691  ,  0.04773735]], dtype=float32)"
      ]
     },
     "execution_count": 53,
     "metadata": {},
     "output_type": "execute_result"
    }
   ],
   "source": [
    "### Normalization\n",
    "\n",
    "from sklearn.preprocessing import normalize\n",
    "\n",
    "X = normalize(X)\n",
    "X"
   ]
  },
  {
   "cell_type": "code",
   "execution_count": 54,
   "metadata": {},
   "outputs": [],
   "source": [
    "y = train['target']\n",
    "\n",
    "X_train, X_test, y_train, y_test = train_test_split(X, y, test_size=0.25, random_state = 7, stratify=y)"
   ]
  },
  {
   "cell_type": "code",
   "execution_count": 55,
   "metadata": {},
   "outputs": [],
   "source": [
    "def word2vec_models(clf, X_train, X_test, y_train, y_test):\n",
    "    print('SVM MODEL:')\n",
    "    run_SVM(clf_svm, X_train, X_test, y_train, y_test)\n",
    "    print('LOGISTIC REGRESSION MODEL:')\n",
    "    run_LR(clf_lr, X_train, X_test, y_train, y_test)\n",
    "    print('KNEAREST NEIGHBORS MODEL:')\n",
    "    run_knn(clf_knn, X_train, X_test, y_train, y_test)\n",
    "    #run_mnb(clf_mnb, X_train, X_test, y_train, y_test)\n",
    "    print('DECISION TREE MODEL:')\n",
    "    run_tree(clf_tree, X_train, X_test, y_train, y_test)\n",
    "    print('RANDOM FOREST MODEL:')\n",
    "    run_forest(clf_forest, X_train, X_test, y_train, y_test)\n",
    "    \n",
    "    return word2vec_models"
   ]
  },
  {
   "cell_type": "code",
   "execution_count": 56,
   "metadata": {},
   "outputs": [
    {
     "name": "stdout",
     "output_type": "stream",
     "text": [
      "SVM MODEL:\n",
      "\n",
      "Classification Report:\n",
      "              precision    recall  f1-score   support\n",
      "\n",
      "           0       0.80      0.87      0.83      1086\n",
      "           1       0.80      0.72      0.76       818\n",
      "\n",
      "    accuracy                           0.80      1904\n",
      "   macro avg       0.80      0.79      0.80      1904\n",
      "weighted avg       0.80      0.80      0.80      1904\n",
      "\n",
      "LOGISTIC REGRESSION MODEL:\n"
     ]
    },
    {
     "name": "stderr",
     "output_type": "stream",
     "text": [
      "/Users/isa14/opt/anaconda3/lib/python3.7/site-packages/sklearn/linear_model/logistic.py:432: FutureWarning: Default solver will be changed to 'lbfgs' in 0.22. Specify a solver to silence this warning.\n",
      "  FutureWarning)\n"
     ]
    },
    {
     "name": "stdout",
     "output_type": "stream",
     "text": [
      "\n",
      "Classification Report:\n",
      "              precision    recall  f1-score   support\n",
      "\n",
      "           0       0.81      0.87      0.84      1086\n",
      "           1       0.80      0.72      0.76       818\n",
      "\n",
      "    accuracy                           0.81      1904\n",
      "   macro avg       0.81      0.80      0.80      1904\n",
      "weighted avg       0.81      0.81      0.80      1904\n",
      "\n",
      "KNEAREST NEIGHBORS MODEL:\n",
      "\n",
      "Classification Report:\n",
      "              precision    recall  f1-score   support\n",
      "\n",
      "           0       0.81      0.81      0.81      1086\n",
      "           1       0.75      0.74      0.75       818\n",
      "\n",
      "    accuracy                           0.78      1904\n",
      "   macro avg       0.78      0.78      0.78      1904\n",
      "weighted avg       0.78      0.78      0.78      1904\n",
      "\n",
      "DECISION TREE MODEL:\n",
      "\n",
      "Classification Reprot:\n",
      "              precision    recall  f1-score   support\n",
      "\n",
      "           0       0.74      0.76      0.75      1086\n",
      "           1       0.67      0.65      0.66       818\n",
      "\n",
      "    accuracy                           0.71      1904\n",
      "   macro avg       0.71      0.71      0.71      1904\n",
      "weighted avg       0.71      0.71      0.71      1904\n",
      "\n",
      "RANDOM FOREST MODEL:\n",
      "\n",
      "Classificiation Report:\n",
      "              precision    recall  f1-score   support\n",
      "\n",
      "           0       0.74      0.86      0.79      1086\n",
      "           1       0.76      0.59      0.67       818\n",
      "\n",
      "    accuracy                           0.74      1904\n",
      "   macro avg       0.75      0.73      0.73      1904\n",
      "weighted avg       0.75      0.74      0.74      1904\n",
      "\n"
     ]
    },
    {
     "data": {
      "text/plain": [
       "<function __main__.word2vec_models(clf, X_train, X_test, y_train, y_test)>"
      ]
     },
     "execution_count": 56,
     "metadata": {},
     "output_type": "execute_result"
    }
   ],
   "source": [
    "clf_list = [run_SVM, run_LR, run_knn, run_mnb, run_tree, run_forest]\n",
    "\n",
    "word2vec_models(clf_list, X_train, X_test, y_train, y_test)"
   ]
  },
  {
   "cell_type": "code",
   "execution_count": 57,
   "metadata": {},
   "outputs": [
    {
     "data": {
      "text/plain": [
       "{'Support Vector Machines': 0.8040966386554622,\n",
       " 'Logistic Regression': 0.8061974789915967,\n",
       " 'KNearest Neightbors': 0.7841386554621849,\n",
       " 'Decision Tree': 0.7137605042016807,\n",
       " 'Random Forest Classifier': 0.7447478991596639}"
      ]
     },
     "execution_count": 57,
     "metadata": {},
     "output_type": "execute_result"
    }
   ],
   "source": [
    "models_default_word2vec = {'Support Vector Machines': clf_svm.score(X_test, y_test),\n",
    "          'Logistic Regression': clf_lr.score(X_test, y_test),\n",
    "          'KNearest Neightbors': clf_knn.score(X_test, y_test),\n",
    "          'Decision Tree': clf_tree.score(X_test, y_test),\n",
    "          'Random Forest Classifier': clf_forest.score(X_test, y_test)}\n",
    "\n",
    "models_default_word2vec"
   ]
  },
  {
   "cell_type": "code",
   "execution_count": null,
   "metadata": {},
   "outputs": [],
   "source": []
  }
 ],
 "metadata": {
  "kernelspec": {
   "display_name": "Python 3",
   "language": "python",
   "name": "python3"
  },
  "language_info": {
   "codemirror_mode": {
    "name": "ipython",
    "version": 3
   },
   "file_extension": ".py",
   "mimetype": "text/x-python",
   "name": "python",
   "nbconvert_exporter": "python",
   "pygments_lexer": "ipython3",
   "version": "3.7.4"
  }
 },
 "nbformat": 4,
 "nbformat_minor": 2
}
