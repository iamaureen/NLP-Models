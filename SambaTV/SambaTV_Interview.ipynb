{
 "cells": [
  {
   "cell_type": "code",
   "execution_count": 127,
   "metadata": {},
   "outputs": [],
   "source": [
    "import numpy as np \n",
    "import pandas as pd \n",
    "\n",
    "import matplotlib.pyplot as plt\n",
    "import seaborn as sns\n"
   ]
  },
  {
   "cell_type": "code",
   "execution_count": 82,
   "metadata": {},
   "outputs": [],
   "source": [
    "#read the data files\n",
    "train_data = pd.read_csv('viewer_data.csv')\n",
    "test_data = pd.read_csv('test_data.csv')"
   ]
  },
  {
   "cell_type": "code",
   "execution_count": 83,
   "metadata": {
    "scrolled": true
   },
   "outputs": [
    {
     "data": {
      "text/html": [
       "<div>\n",
       "<style scoped>\n",
       "    .dataframe tbody tr th:only-of-type {\n",
       "        vertical-align: middle;\n",
       "    }\n",
       "\n",
       "    .dataframe tbody tr th {\n",
       "        vertical-align: top;\n",
       "    }\n",
       "\n",
       "    .dataframe thead th {\n",
       "        text-align: right;\n",
       "    }\n",
       "</style>\n",
       "<table border=\"1\" class=\"dataframe\">\n",
       "  <thead>\n",
       "    <tr style=\"text-align: right;\">\n",
       "      <th></th>\n",
       "      <th>viewer_id</th>\n",
       "      <th>gender</th>\n",
       "      <th>age</th>\n",
       "      <th>city</th>\n",
       "    </tr>\n",
       "  </thead>\n",
       "  <tbody>\n",
       "    <tr>\n",
       "      <td>0</td>\n",
       "      <td>1918165</td>\n",
       "      <td>Female</td>\n",
       "      <td>39</td>\n",
       "      <td>Dallas</td>\n",
       "    </tr>\n",
       "    <tr>\n",
       "      <td>1</td>\n",
       "      <td>27662619</td>\n",
       "      <td>Female</td>\n",
       "      <td>28</td>\n",
       "      <td>New York</td>\n",
       "    </tr>\n",
       "    <tr>\n",
       "      <td>2</td>\n",
       "      <td>5493662</td>\n",
       "      <td>Female</td>\n",
       "      <td>53</td>\n",
       "      <td>Detroit</td>\n",
       "    </tr>\n",
       "    <tr>\n",
       "      <td>3</td>\n",
       "      <td>14441247</td>\n",
       "      <td>Male</td>\n",
       "      <td>41</td>\n",
       "      <td>New York</td>\n",
       "    </tr>\n",
       "    <tr>\n",
       "      <td>4</td>\n",
       "      <td>25595927</td>\n",
       "      <td>Male</td>\n",
       "      <td>53</td>\n",
       "      <td>Seattle</td>\n",
       "    </tr>\n",
       "  </tbody>\n",
       "</table>\n",
       "</div>"
      ],
      "text/plain": [
       "   viewer_id  gender  age      city\n",
       "0    1918165  Female   39    Dallas\n",
       "1   27662619  Female   28  New York\n",
       "2    5493662  Female   53   Detroit\n",
       "3   14441247    Male   41  New York\n",
       "4   25595927    Male   53   Seattle"
      ]
     },
     "execution_count": 83,
     "metadata": {},
     "output_type": "execute_result"
    }
   ],
   "source": [
    "train_data.head()"
   ]
  },
  {
   "cell_type": "code",
   "execution_count": 84,
   "metadata": {},
   "outputs": [
    {
     "data": {
      "text/plain": [
       "(417464, 4)"
      ]
     },
     "execution_count": 84,
     "metadata": {},
     "output_type": "execute_result"
    }
   ],
   "source": [
    "train_data.shape"
   ]
  },
  {
   "cell_type": "code",
   "execution_count": 85,
   "metadata": {
    "scrolled": true
   },
   "outputs": [
    {
     "data": {
      "text/html": [
       "<div>\n",
       "<style scoped>\n",
       "    .dataframe tbody tr th:only-of-type {\n",
       "        vertical-align: middle;\n",
       "    }\n",
       "\n",
       "    .dataframe tbody tr th {\n",
       "        vertical-align: top;\n",
       "    }\n",
       "\n",
       "    .dataframe thead th {\n",
       "        text-align: right;\n",
       "    }\n",
       "</style>\n",
       "<table border=\"1\" class=\"dataframe\">\n",
       "  <thead>\n",
       "    <tr style=\"text-align: right;\">\n",
       "      <th></th>\n",
       "      <th>viewer_id</th>\n",
       "      <th>date</th>\n",
       "      <th>tv_make</th>\n",
       "      <th>tv_size</th>\n",
       "      <th>uhd_capable</th>\n",
       "      <th>tv_provider</th>\n",
       "      <th>total_time_watched</th>\n",
       "      <th>watched</th>\n",
       "      <th>test</th>\n",
       "    </tr>\n",
       "  </thead>\n",
       "  <tbody>\n",
       "    <tr>\n",
       "      <td>0</td>\n",
       "      <td>24726768</td>\n",
       "      <td>2018-01-16</td>\n",
       "      <td>Sony</td>\n",
       "      <td>70</td>\n",
       "      <td>0</td>\n",
       "      <td>Comcast</td>\n",
       "      <td>10.75</td>\n",
       "      <td>0</td>\n",
       "      <td>1</td>\n",
       "    </tr>\n",
       "    <tr>\n",
       "      <td>1</td>\n",
       "      <td>25001464</td>\n",
       "      <td>2018-01-18</td>\n",
       "      <td>Sony</td>\n",
       "      <td>32</td>\n",
       "      <td>0</td>\n",
       "      <td>NaN</td>\n",
       "      <td>2.75</td>\n",
       "      <td>0</td>\n",
       "      <td>0</td>\n",
       "    </tr>\n",
       "    <tr>\n",
       "      <td>2</td>\n",
       "      <td>28291998</td>\n",
       "      <td>2018-01-18</td>\n",
       "      <td>Sony</td>\n",
       "      <td>50</td>\n",
       "      <td>1</td>\n",
       "      <td>Dish Network</td>\n",
       "      <td>20.00</td>\n",
       "      <td>0</td>\n",
       "      <td>0</td>\n",
       "    </tr>\n",
       "    <tr>\n",
       "      <td>3</td>\n",
       "      <td>17057157</td>\n",
       "      <td>2018-01-19</td>\n",
       "      <td>Sony</td>\n",
       "      <td>32</td>\n",
       "      <td>0</td>\n",
       "      <td>Comcast</td>\n",
       "      <td>1.50</td>\n",
       "      <td>0</td>\n",
       "      <td>0</td>\n",
       "    </tr>\n",
       "    <tr>\n",
       "      <td>4</td>\n",
       "      <td>29504447</td>\n",
       "      <td>2018-01-17</td>\n",
       "      <td>Sony</td>\n",
       "      <td>32</td>\n",
       "      <td>0</td>\n",
       "      <td>Comcast</td>\n",
       "      <td>17.50</td>\n",
       "      <td>0</td>\n",
       "      <td>0</td>\n",
       "    </tr>\n",
       "  </tbody>\n",
       "</table>\n",
       "</div>"
      ],
      "text/plain": [
       "   viewer_id        date tv_make  tv_size  uhd_capable   tv_provider  \\\n",
       "0   24726768  2018-01-16    Sony       70            0       Comcast   \n",
       "1   25001464  2018-01-18    Sony       32            0           NaN   \n",
       "2   28291998  2018-01-18    Sony       50            1  Dish Network   \n",
       "3   17057157  2018-01-19    Sony       32            0       Comcast   \n",
       "4   29504447  2018-01-17    Sony       32            0       Comcast   \n",
       "\n",
       "   total_time_watched  watched  test  \n",
       "0               10.75        0     1  \n",
       "1                2.75        0     0  \n",
       "2               20.00        0     0  \n",
       "3                1.50        0     0  \n",
       "4               17.50        0     0  "
      ]
     },
     "execution_count": 85,
     "metadata": {},
     "output_type": "execute_result"
    }
   ],
   "source": [
    "test_data.head()"
   ]
  },
  {
   "cell_type": "code",
   "execution_count": 86,
   "metadata": {},
   "outputs": [
    {
     "data": {
      "text/plain": [
       "(418026, 9)"
      ]
     },
     "execution_count": 86,
     "metadata": {},
     "output_type": "execute_result"
    }
   ],
   "source": [
    "test_data.shape"
   ]
  },
  {
   "cell_type": "code",
   "execution_count": 87,
   "metadata": {},
   "outputs": [
    {
     "data": {
      "text/plain": [
       "viewer_id    0\n",
       "gender       0\n",
       "age          0\n",
       "city         0\n",
       "dtype: int64"
      ]
     },
     "execution_count": 87,
     "metadata": {},
     "output_type": "execute_result"
    }
   ],
   "source": [
    "#missing data in each colm\n",
    "train_data.isna().sum()"
   ]
  },
  {
   "cell_type": "code",
   "execution_count": 88,
   "metadata": {},
   "outputs": [
    {
     "data": {
      "text/plain": [
       "viewer_id                 0\n",
       "date                      0\n",
       "tv_make                   0\n",
       "tv_size                   0\n",
       "uhd_capable               0\n",
       "tv_provider           52720\n",
       "total_time_watched        0\n",
       "watched                   0\n",
       "test                      0\n",
       "dtype: int64"
      ]
     },
     "execution_count": 88,
     "metadata": {},
     "output_type": "execute_result"
    }
   ],
   "source": [
    "#missing data in each colm\n",
    "test_data.isna().sum()"
   ]
  },
  {
   "cell_type": "code",
   "execution_count": 89,
   "metadata": {},
   "outputs": [],
   "source": [
    "#starting simple - drop the tv provider rows that has missing values \n",
    "#test_data = test_data.dropna()"
   ]
  },
  {
   "cell_type": "code",
   "execution_count": 90,
   "metadata": {},
   "outputs": [
    {
     "data": {
      "text/plain": [
       "(418026, 9)"
      ]
     },
     "execution_count": 90,
     "metadata": {},
     "output_type": "execute_result"
    }
   ],
   "source": [
    "test_data.shape"
   ]
  },
  {
   "cell_type": "code",
   "execution_count": 91,
   "metadata": {},
   "outputs": [
    {
     "data": {
      "text/plain": [
       "viewer_id                 0\n",
       "date                      0\n",
       "tv_make                   0\n",
       "tv_size                   0\n",
       "uhd_capable               0\n",
       "tv_provider           52720\n",
       "total_time_watched        0\n",
       "watched                   0\n",
       "test                      0\n",
       "dtype: int64"
      ]
     },
     "execution_count": 91,
     "metadata": {},
     "output_type": "execute_result"
    }
   ],
   "source": [
    "test_data.isna().sum()"
   ]
  },
  {
   "cell_type": "code",
   "execution_count": 92,
   "metadata": {},
   "outputs": [],
   "source": [
    "#merging the data \n",
    "combined_data = pd.merge(train_data,test_data) #pd.merge uses viewer_id to join the two datasets"
   ]
  },
  {
   "cell_type": "code",
   "execution_count": 93,
   "metadata": {},
   "outputs": [
    {
     "data": {
      "text/plain": [
       "(417470, 12)"
      ]
     },
     "execution_count": 93,
     "metadata": {},
     "output_type": "execute_result"
    }
   ],
   "source": [
    "combined_data.shape"
   ]
  },
  {
   "cell_type": "code",
   "execution_count": 94,
   "metadata": {},
   "outputs": [
    {
     "data": {
      "text/html": [
       "<div>\n",
       "<style scoped>\n",
       "    .dataframe tbody tr th:only-of-type {\n",
       "        vertical-align: middle;\n",
       "    }\n",
       "\n",
       "    .dataframe tbody tr th {\n",
       "        vertical-align: top;\n",
       "    }\n",
       "\n",
       "    .dataframe thead th {\n",
       "        text-align: right;\n",
       "    }\n",
       "</style>\n",
       "<table border=\"1\" class=\"dataframe\">\n",
       "  <thead>\n",
       "    <tr style=\"text-align: right;\">\n",
       "      <th></th>\n",
       "      <th>viewer_id</th>\n",
       "      <th>gender</th>\n",
       "      <th>age</th>\n",
       "      <th>city</th>\n",
       "      <th>date</th>\n",
       "      <th>tv_make</th>\n",
       "      <th>tv_size</th>\n",
       "      <th>uhd_capable</th>\n",
       "      <th>tv_provider</th>\n",
       "      <th>total_time_watched</th>\n",
       "      <th>watched</th>\n",
       "      <th>test</th>\n",
       "    </tr>\n",
       "  </thead>\n",
       "  <tbody>\n",
       "    <tr>\n",
       "      <td>0</td>\n",
       "      <td>1918165</td>\n",
       "      <td>Female</td>\n",
       "      <td>39</td>\n",
       "      <td>Dallas</td>\n",
       "      <td>2018-01-16</td>\n",
       "      <td>Sony</td>\n",
       "      <td>60</td>\n",
       "      <td>1</td>\n",
       "      <td>Comcast</td>\n",
       "      <td>10.25</td>\n",
       "      <td>0</td>\n",
       "      <td>1</td>\n",
       "    </tr>\n",
       "    <tr>\n",
       "      <td>1</td>\n",
       "      <td>27662619</td>\n",
       "      <td>Female</td>\n",
       "      <td>28</td>\n",
       "      <td>New York</td>\n",
       "      <td>2018-01-18</td>\n",
       "      <td>Sony</td>\n",
       "      <td>43</td>\n",
       "      <td>0</td>\n",
       "      <td>Comcast</td>\n",
       "      <td>5.25</td>\n",
       "      <td>0</td>\n",
       "      <td>0</td>\n",
       "    </tr>\n",
       "    <tr>\n",
       "      <td>2</td>\n",
       "      <td>5493662</td>\n",
       "      <td>Female</td>\n",
       "      <td>53</td>\n",
       "      <td>Detroit</td>\n",
       "      <td>2018-01-16</td>\n",
       "      <td>Toshiba</td>\n",
       "      <td>60</td>\n",
       "      <td>1</td>\n",
       "      <td>NaN</td>\n",
       "      <td>15.25</td>\n",
       "      <td>0</td>\n",
       "      <td>0</td>\n",
       "    </tr>\n",
       "    <tr>\n",
       "      <td>3</td>\n",
       "      <td>14441247</td>\n",
       "      <td>Male</td>\n",
       "      <td>41</td>\n",
       "      <td>New York</td>\n",
       "      <td>2018-01-18</td>\n",
       "      <td>Sony</td>\n",
       "      <td>43</td>\n",
       "      <td>0</td>\n",
       "      <td>Cox</td>\n",
       "      <td>4.00</td>\n",
       "      <td>0</td>\n",
       "      <td>1</td>\n",
       "    </tr>\n",
       "    <tr>\n",
       "      <td>4</td>\n",
       "      <td>25595927</td>\n",
       "      <td>Male</td>\n",
       "      <td>53</td>\n",
       "      <td>Seattle</td>\n",
       "      <td>2018-01-19</td>\n",
       "      <td>Sony</td>\n",
       "      <td>60</td>\n",
       "      <td>0</td>\n",
       "      <td>Time Warner Cable</td>\n",
       "      <td>1.00</td>\n",
       "      <td>0</td>\n",
       "      <td>0</td>\n",
       "    </tr>\n",
       "  </tbody>\n",
       "</table>\n",
       "</div>"
      ],
      "text/plain": [
       "   viewer_id  gender  age      city        date  tv_make  tv_size  \\\n",
       "0    1918165  Female   39    Dallas  2018-01-16     Sony       60   \n",
       "1   27662619  Female   28  New York  2018-01-18     Sony       43   \n",
       "2    5493662  Female   53   Detroit  2018-01-16  Toshiba       60   \n",
       "3   14441247    Male   41  New York  2018-01-18     Sony       43   \n",
       "4   25595927    Male   53   Seattle  2018-01-19     Sony       60   \n",
       "\n",
       "   uhd_capable        tv_provider  total_time_watched  watched  test  \n",
       "0            1            Comcast               10.25        0     1  \n",
       "1            0            Comcast                5.25        0     0  \n",
       "2            1                NaN               15.25        0     0  \n",
       "3            0                Cox                4.00        0     1  \n",
       "4            0  Time Warner Cable                1.00        0     0  "
      ]
     },
     "execution_count": 94,
     "metadata": {},
     "output_type": "execute_result"
    }
   ],
   "source": [
    "combined_data.head()"
   ]
  },
  {
   "cell_type": "code",
   "execution_count": 95,
   "metadata": {
    "scrolled": true
   },
   "outputs": [
    {
     "data": {
      "text/plain": [
       "city\n",
       "Atlanta          1230\n",
       "Boston           1267\n",
       "Chicago          1672\n",
       "Dallas           1315\n",
       "Detroit           899\n",
       "Houston          1268\n",
       "Los Angeles      5412\n",
       "Miami             881\n",
       "Minneapolis       913\n",
       "New York         3599\n",
       "Philadelphia      675\n",
       "Phoenix          1016\n",
       "San Francisco    1210\n",
       "Seattle           487\n",
       "Tampa             958\n",
       "Name: watched, dtype: int64"
      ]
     },
     "execution_count": 95,
     "metadata": {},
     "output_type": "execute_result"
    }
   ],
   "source": [
    "#group by city, and compute total users who watched the show\n",
    "combined_data.groupby('city')['watched'].sum()"
   ]
  },
  {
   "cell_type": "code",
   "execution_count": 140,
   "metadata": {},
   "outputs": [
    {
     "data": {
      "text/plain": [
       "city\n",
       "Los Angeles      23.734760\n",
       "New York         15.783703\n",
       "Chicago           7.332690\n",
       "Dallas            5.767038\n",
       "Houston           5.560916\n",
       "Boston            5.556530\n",
       "Atlanta           5.394264\n",
       "San Francisco     5.306552\n",
       "Phoenix           4.455749\n",
       "Tampa             4.201386\n",
       "Minneapolis       4.004035\n",
       "Detroit           3.942637\n",
       "Miami             3.863696\n",
       "Philadelphia      2.960267\n",
       "Seattle           2.135778\n",
       "Name: watched, dtype: float64"
      ]
     },
     "execution_count": 140,
     "metadata": {},
     "output_type": "execute_result"
    }
   ],
   "source": [
    "#then compute fraction of people who watched the show per city \n",
    "combined_data.groupby('city')['watched'].sum().transform(lambda x: 100* x/x.sum()).sort_values(ascending=False)"
   ]
  },
  {
   "cell_type": "code",
   "execution_count": 149,
   "metadata": {},
   "outputs": [
    {
     "data": {
      "text/plain": [
       "city           test\n",
       "Los Angeles    0       0.237348\n",
       "New York       0       0.079291\n",
       "               1       0.078546\n",
       "Chicago        1       0.038505\n",
       "               0       0.034822\n",
       "Boston         1       0.029033\n",
       "Houston        1       0.029033\n",
       "Dallas         1       0.028945\n",
       "               0       0.028726\n",
       "Atlanta        1       0.028112\n",
       "San Francisco  1       0.027454\n",
       "Houston        0       0.026577\n",
       "Boston         0       0.026533\n",
       "Atlanta        0       0.025831\n",
       "San Francisco  0       0.025612\n",
       "Philadelphia   1       0.025217\n",
       "Phoenix        1       0.022630\n",
       "Tampa          1       0.021972\n",
       "Phoenix        0       0.021928\n",
       "Detroit        1       0.021445\n",
       "Minneapolis    1       0.020919\n",
       "Miami          1       0.020568\n",
       "Tampa          0       0.020042\n",
       "Minneapolis    0       0.019121\n",
       "Miami          0       0.018069\n",
       "Detroit        0       0.017981\n",
       "Seattle        1       0.017849\n",
       "Philadelphia   0       0.004386\n",
       "Seattle        0       0.003508\n",
       "Name: watched, dtype: float64"
      ]
     },
     "execution_count": 149,
     "metadata": {},
     "output_type": "execute_result"
    }
   ],
   "source": [
    "#analyze the experiment\n",
    "combined_data.groupby(['city','test'])['watched'].sum().transform(lambda x: x/x.sum()).sort_values(ascending=False)"
   ]
  },
  {
   "cell_type": "code",
   "execution_count": 105,
   "metadata": {},
   "outputs": [
    {
     "data": {
      "text/plain": [
       "<matplotlib.axes._subplots.AxesSubplot at 0x114913210>"
      ]
     },
     "execution_count": 105,
     "metadata": {},
     "output_type": "execute_result"
    },
    {
     "data": {
      "image/png": "[encoded data removed]",
      "text/plain": [
       "<Figure size 432x288 with 1 Axes>"
      ]
     },
     "metadata": {
      "needs_background": "light"
     },
     "output_type": "display_data"
    }
   ],
   "source": [
    "#graphic representation \n",
    "combined_data.groupby(['city','test'])['watched'].sum().transform(lambda x: x/x.sum()).plot(legend=True)"
   ]
  },
  {
   "cell_type": "code",
   "execution_count": 125,
   "metadata": {},
   "outputs": [
    {
     "data": {
      "text/plain": [
       "test\n",
       "0    0.589773\n",
       "1    0.410227\n",
       "Name: watched, dtype: float64"
      ]
     },
     "execution_count": 125,
     "metadata": {},
     "output_type": "execute_result"
    }
   ],
   "source": [
    "#proportion of watched users between test groups\n",
    "combined_data.groupby('test')['watched'].sum().transform(lambda x: x/x.sum()).sort_values(ascending=False)"
   ]
  },
  {
   "cell_type": "code",
   "execution_count": 131,
   "metadata": {},
   "outputs": [
    {
     "data": {
      "text/plain": [
       "<matplotlib.axes._subplots.AxesSubplot at 0x1229e7d10>"
      ]
     },
     "execution_count": 131,
     "metadata": {},
     "output_type": "execute_result"
    },
    {
     "data": {
      "image/png": "[encoded data removed]",
      "text/plain": [
       "<Figure size 432x288 with 1 Axes>"
      ]
     },
     "metadata": {
      "needs_background": "light"
     },
     "output_type": "display_data"
    }
   ],
   "source": [
    "#investigation test x tv_make\n",
    "\n",
    "sns.boxplot(x='tv_make', y='test', data=combined_data)"
   ]
  },
  {
   "cell_type": "code",
   "execution_count": 132,
   "metadata": {},
   "outputs": [
    {
     "data": {
      "text/plain": [
       "<matplotlib.axes._subplots.AxesSubplot at 0x122d64e50>"
      ]
     },
     "execution_count": 132,
     "metadata": {},
     "output_type": "execute_result"
    },
    {
     "data": {
      "image/png": "[encoded data removed]",
      "text/plain": [
       "<Figure size 432x288 with 1 Axes>"
      ]
     },
     "metadata": {
      "needs_background": "light"
     },
     "output_type": "display_data"
    }
   ],
   "source": [
    "#investigation test x tv_size\n",
    "\n",
    "sns.boxplot(x='tv_size', y='test', data=combined_data)"
   ]
  },
  {
   "cell_type": "code",
   "execution_count": 135,
   "metadata": {
    "scrolled": true
   },
   "outputs": [
    {
     "data": {
      "text/plain": [
       "<matplotlib.axes._subplots.AxesSubplot at 0x138c54d90>"
      ]
     },
     "execution_count": 135,
     "metadata": {},
     "output_type": "execute_result"
    },
    {
     "data": {
      "image/png": "[encoded data removed]",
      "text/plain": [
       "<Figure size 432x288 with 1 Axes>"
      ]
     },
     "metadata": {
      "needs_background": "light"
     },
     "output_type": "display_data"
    }
   ],
   "source": [
    "#investigation test x uhd_capable\n",
    "\n",
    "sns.boxplot(x='uhd_capable', y='test', data=combined_data)"
   ]
  },
  {
   "cell_type": "code",
   "execution_count": 129,
   "metadata": {},
   "outputs": [
    {
     "data": {
      "text/plain": [
       "<matplotlib.axes._subplots.AxesSubplot at 0x122182950>"
      ]
     },
     "execution_count": 129,
     "metadata": {},
     "output_type": "execute_result"
    },
    {
     "data": {
      "image/png": "[encoded data removed]",
      "text/plain": [
       "<Figure size 432x288 with 1 Axes>"
      ]
     },
     "metadata": {
      "needs_background": "light"
     },
     "output_type": "display_data"
    }
   ],
   "source": [
    "#investigation test x tv_provider\n",
    "sns.boxplot(x='tv_provider', y='test', data=combined_data)"
   ]
  },
  {
   "cell_type": "code",
   "execution_count": 130,
   "metadata": {},
   "outputs": [
    {
     "data": {
      "text/plain": [
       "<matplotlib.axes._subplots.AxesSubplot at 0x122dd09d0>"
      ]
     },
     "execution_count": 130,
     "metadata": {},
     "output_type": "execute_result"
    },
    {
     "data": {
      "image/png": "[encoded data removed]",
      "text/plain": [
       "<Figure size 432x288 with 1 Axes>"
      ]
     },
     "metadata": {
      "needs_background": "light"
     },
     "output_type": "display_data"
    }
   ],
   "source": [
    "#investigation test x gender\n",
    "\n",
    "sns.boxplot(x='gender', y='test', data=combined_data)"
   ]
  },
  {
   "cell_type": "code",
   "execution_count": 139,
   "metadata": {},
   "outputs": [
    {
     "data": {
      "text/html": [
       "<div>\n",
       "<style scoped>\n",
       "    .dataframe tbody tr th:only-of-type {\n",
       "        vertical-align: middle;\n",
       "    }\n",
       "\n",
       "    .dataframe tbody tr th {\n",
       "        vertical-align: top;\n",
       "    }\n",
       "\n",
       "    .dataframe thead th {\n",
       "        text-align: right;\n",
       "    }\n",
       "</style>\n",
       "<table border=\"1\" class=\"dataframe\">\n",
       "  <thead>\n",
       "    <tr style=\"text-align: right;\">\n",
       "      <th></th>\n",
       "      <th></th>\n",
       "      <th>sum</th>\n",
       "      <th>mean</th>\n",
       "    </tr>\n",
       "    <tr>\n",
       "      <th>test</th>\n",
       "      <th>watched</th>\n",
       "      <th></th>\n",
       "      <th></th>\n",
       "    </tr>\n",
       "  </thead>\n",
       "  <tbody>\n",
       "    <tr>\n",
       "      <td rowspan=\"2\" valign=\"top\">0</td>\n",
       "      <td>0</td>\n",
       "      <td>2002804.75</td>\n",
       "      <td>10.029318</td>\n",
       "    </tr>\n",
       "    <tr>\n",
       "      <td>1</td>\n",
       "      <td>135190.00</td>\n",
       "      <td>10.052796</td>\n",
       "    </tr>\n",
       "    <tr>\n",
       "      <td rowspan=\"2\" valign=\"top\">1</td>\n",
       "      <td>0</td>\n",
       "      <td>1959861.75</td>\n",
       "      <td>10.051965</td>\n",
       "    </tr>\n",
       "    <tr>\n",
       "      <td>1</td>\n",
       "      <td>93636.25</td>\n",
       "      <td>10.010290</td>\n",
       "    </tr>\n",
       "  </tbody>\n",
       "</table>\n",
       "</div>"
      ],
      "text/plain": [
       "                     sum       mean\n",
       "test watched                       \n",
       "0    0        2002804.75  10.029318\n",
       "     1         135190.00  10.052796\n",
       "1    0        1959861.75  10.051965\n",
       "     1          93636.25  10.010290"
      ]
     },
     "execution_count": 139,
     "metadata": {},
     "output_type": "execute_result"
    }
   ],
   "source": [
    "# number 3\n",
    "\n",
    "combined_data.groupby(['test','watched'])['total_time_watched'].agg(['sum', 'mean'])"
   ]
  },
  {
   "cell_type": "code",
   "execution_count": null,
   "metadata": {},
   "outputs": [],
   "source": []
  }
 ],
 "metadata": {
  "kernelspec": {
   "display_name": "Python 3",
   "language": "python",
   "name": "python3"
  },
  "language_info": {
   "codemirror_mode": {
    "name": "ipython",
    "version": 3
   },
   "file_extension": ".py",
   "mimetype": "text/x-python",
   "name": "python",
   "nbconvert_exporter": "python",
   "pygments_lexer": "ipython3",
   "version": "3.7.4"
  }
 },
 "nbformat": 4,
 "nbformat_minor": 2
}
